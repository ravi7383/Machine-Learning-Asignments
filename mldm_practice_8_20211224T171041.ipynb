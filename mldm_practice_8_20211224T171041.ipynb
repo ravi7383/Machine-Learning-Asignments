{
 "cells": [
  {
   "cell_type": "code",
   "execution_count": 1,
   "metadata": {},
   "outputs": [],
   "source": [
    "import pandas as pd\n",
    "import numpy as np\n",
    "import math"
   ]
  },
  {
   "cell_type": "code",
   "execution_count": 2,
   "metadata": {},
   "outputs": [],
   "source": [
    "df_test = pd.read_csv('test.csv')\n",
    "df_train = pd.read_csv('train.csv')\n",
    "df_train = df_train.dropna()"
   ]
  },
  {
   "cell_type": "code",
   "execution_count": 3,
   "metadata": {},
   "outputs": [
    {
     "name": "stdout",
     "output_type": "stream",
     "text": [
      "50.01430615164521\n",
      "49.939869170457804\n"
     ]
    }
   ],
   "source": [
    "df_train.head()\n",
    "x = df_train['x'].values\n",
    "y = df_train['y'].values\n",
    "\n",
    "#Calculate mean\n",
    "\n",
    "mean_x = np.mean(x)\n",
    "mean_y = np.mean(y)\n",
    "print(mean_x)\n",
    "print(mean_y)"
   ]
  },
  {
   "cell_type": "code",
   "execution_count": 4,
   "metadata": {},
   "outputs": [
    {
     "name": "stdout",
     "output_type": "stream",
     "text": [
      "m = 1.0006563818563046 \n",
      "c = -0.10726546430100825\n"
     ]
    }
   ],
   "source": [
    "#Calculate m & c using the formulas\n",
    "m=len(x)\n",
    "n=0\n",
    "d=0\n",
    "for i in range(m):\n",
    "    n += (x[i] - mean_x) * (y[i] - mean_y)\n",
    "    d += (x[i] - mean_x) ** 2\n",
    "    \n",
    "m = n/d\n",
    "c = mean_y - (m * mean_x)\n",
    "print (f'm = {m} \\nc = {c}')\n"
   ]
  },
  {
   "cell_type": "code",
   "execution_count": 5,
   "metadata": {},
   "outputs": [
    {
     "data": {
      "text/plain": [
       "3.0713062680298253"
      ]
     },
     "execution_count": 5,
     "metadata": {},
     "output_type": "execute_result"
    }
   ],
   "source": [
    "n = len(df_test['x'])\n",
    "y_actual = df_test['y']\n",
    "y_predict = m*df_test['x'] + c\n",
    "\n",
    "\n",
    "def rmse(y_predict, y_actual):\n",
    "    return np.sqrt(((y_predict - y_actual) ** 2).mean())\n",
    "rmse(y_predict,y_actual)"
   ]
  },
  {
   "cell_type": "code",
   "execution_count": null,
   "metadata": {},
   "outputs": [],
   "source": [
    "\n"
   ]
  },
  {
   "cell_type": "code",
   "execution_count": null,
   "metadata": {},
   "outputs": [],
   "source": []
  },
  {
   "cell_type": "code",
   "execution_count": null,
   "metadata": {},
   "outputs": [],
   "source": []
  }
 ],
 "metadata": {
  "kernelspec": {
   "display_name": "Python 3.8.5 64-bit ('anaconda3': virtualenv)",
   "language": "python",
   "name": "python385jvsc74a57bd0f90de8ee9ad3bffb03e877302f958c38918c98dd35efbe7a7b4ad92d0756cf97"
  },
  "language_info": {
   "codemirror_mode": {
    "name": "ipython",
    "version": 3
   },
   "file_extension": ".py",
   "mimetype": "text/x-python",
   "name": "python",
   "nbconvert_exporter": "python",
   "pygments_lexer": "ipython3",
   "version": "3.8.5"
  }
 },
 "nbformat": 4,
 "nbformat_minor": 4
}
